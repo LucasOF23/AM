{
 "cells": [
  {
   "cell_type": "code",
   "execution_count": 1,
   "id": "3db5ec15",
   "metadata": {},
   "outputs": [
    {
     "name": "stdout",
     "output_type": "stream",
     "text": [
      "MSE (por fold): [0.3120394640447113, 0.30592881388528104, 0.3061425487576418, 0.30368106363399633, 0.3058813172950393]\n",
      "MSE médio: 0.30673464152333396\n",
      "R² (por fold): [0.7803880573737738, 0.78734588845565, 0.7872829055030952, 0.7934692195006008, 0.78547550278405]\n",
      "R² médio: 0.7867923147234339\n"
     ]
    }
   ],
   "source": [
    "from Modelo import Modelo\n",
    "\n",
    "modelo = Modelo(\"global_cancer_patients_2015_2024.csv\", \"MLP\", take_out_values=True)"
   ]
  },
  {
   "cell_type": "code",
   "execution_count": 2,
   "id": "b8003251",
   "metadata": {},
   "outputs": [
    {
     "name": "stdout",
     "output_type": "stream",
     "text": [
      "MSE (por fold): [0.4163329567239111, 0.40763629727970624, 0.41339693508773745, 0.4078607299198561, 0.41454541853922583]\n",
      "MSE médio: 0.41195446751008735\n",
      "R² (por fold): [0.7069867759023016, 0.7166480217069375, 0.7127593166560973, 0.7226175584430725, 0.7092658411709238]\n",
      "R² médio: 0.7136555027758665\n"
     ]
    }
   ],
   "source": [
    "from Modelo import Modelo\n",
    "\n",
    "modelo = Modelo(\"global_cancer_patients_2015_2024.csv\", \"DTR\", take_out_values=True)"
   ]
  },
  {
   "cell_type": "code",
   "execution_count": 3,
   "id": "30693468",
   "metadata": {},
   "outputs": [
    {
     "name": "stdout",
     "output_type": "stream",
     "text": [
      "MSE (por fold): [0.3053009746696767, 0.29752434972937997, 0.2977439564094982, 0.29834422372517666, 0.29917887190334663]\n",
      "MSE médio: 0.2996184752874156\n",
      "R² (por fold): [0.7851305752682587, 0.7931879137143419, 0.793118501271834, 0.7970987566820739, 0.7901761453093448]\n",
      "R² médio: 0.7917423784491706\n"
     ]
    }
   ],
   "source": [
    "from Modelo import Modelo\n",
    "\n",
    "modelo = Modelo(\"global_cancer_patients_2015_2024.csv\", \"SVR\", take_out_values=True)"
   ]
  },
  {
   "cell_type": "code",
   "execution_count": 4,
   "id": "bf1f2427",
   "metadata": {},
   "outputs": [
    {
     "name": "stdout",
     "output_type": "stream",
     "text": [
      "[5.11918233]\n"
     ]
    },
    {
     "name": "stderr",
     "output_type": "stream",
     "text": [
      "/home/lucas_of/anaconda3/envs/NLP/lib/python3.12/site-packages/sklearn/utils/validation.py:2739: UserWarning: X does not have valid feature names, but StandardScaler was fitted with feature names\n",
      "  warnings.warn(\n"
     ]
    }
   ],
   "source": [
    "vec = [71,6.4,2.8,9.5,0.9,8.7,5,3,62913.44,5.9] # First line of the dataset with Id, gender, country, year and ,Target_Severity_Score removed, and other values already mapped\n",
    "vec2 = [71,6.4,2.8,9.5,0.9,8.7,5,3] # Same as the above but with Treatment_Cost_USD and Survival_Years also removed\n",
    "modelo.predicao(vec2) # Target_Severity_Score = 4.92 / Treatment_Cost_USD = 62913.44 / Survival_Years = 5.9"
   ]
  }
 ],
 "metadata": {
  "kernelspec": {
   "display_name": "NLP",
   "language": "python",
   "name": "python3"
  },
  "language_info": {
   "codemirror_mode": {
    "name": "ipython",
    "version": 3
   },
   "file_extension": ".py",
   "mimetype": "text/x-python",
   "name": "python",
   "nbconvert_exporter": "python",
   "pygments_lexer": "ipython3",
   "version": "3.12.9"
  }
 },
 "nbformat": 4,
 "nbformat_minor": 5
}
